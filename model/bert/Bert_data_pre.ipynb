{
 "cells": [
  {
   "cell_type": "markdown",
   "id": "6ee52034",
   "metadata": {},
   "source": [
    "# Bert_data_pre"
   ]
  },
  {
   "cell_type": "code",
   "execution_count": 23,
   "id": "a6d0c6f7",
   "metadata": {},
   "outputs": [
    {
     "name": "stdout",
     "output_type": "stream",
     "text": [
      "Looking in indexes: https://pypi.tuna.tsinghua.edu.cn/simple\r\n",
      "Requirement already satisfied: lightgbm in /Users/wangyibo06/opt/anaconda3/lib/python3.8/site-packages (3.3.0)\r\n",
      "Requirement already satisfied: numpy in /Users/wangyibo06/opt/anaconda3/lib/python3.8/site-packages (from lightgbm) (1.20.1)\r\n",
      "Requirement already satisfied: scipy in /Users/wangyibo06/opt/anaconda3/lib/python3.8/site-packages (from lightgbm) (1.6.2)\r\n",
      "Requirement already satisfied: wheel in /Users/wangyibo06/opt/anaconda3/lib/python3.8/site-packages (from lightgbm) (0.36.2)\r\n",
      "Requirement already satisfied: scikit-learn!=0.22.0 in /Users/wangyibo06/opt/anaconda3/lib/python3.8/site-packages (from lightgbm) (0.24.1)\r\n",
      "Requirement already satisfied: joblib>=0.11 in /Users/wangyibo06/opt/anaconda3/lib/python3.8/site-packages (from scikit-learn!=0.22.0->lightgbm) (1.0.1)\r\n",
      "Requirement already satisfied: threadpoolctl>=2.0.0 in /Users/wangyibo06/opt/anaconda3/lib/python3.8/site-packages (from scikit-learn!=0.22.0->lightgbm) (2.1.0)\r\n"
     ]
    }
   ],
   "source": [
    "from google.colab import drive\n",
    "drive.mount('/content/drive')"
   ]
  },
  {
   "cell_type": "markdown",
   "id": "17bf6a74",
   "metadata": {},
   "source": [
    "# 1、data extract"
   ]
  },
  {
   "cell_type": "code",
   "execution_count": 1,
   "id": "145d1a8a",
   "metadata": {},
   "outputs": [],
   "source": [
    "import json"
   ]
  },
  {
   "cell_type": "code",
   "execution_count": 2,
   "id": "7890d822",
   "metadata": {},
   "outputs": [],
   "source": [
    "def prepare_data(filename):\n",
    "    \"\"\"\n",
    "    args: \n",
    "        data: {user_id:{\"text\":text,\"user\":user,\"place_id\":place_id}}\n",
    "     \n",
    "    return:\n",
    "        result: {text: [text1,text2,...],length:[length1,length2,...],label:[rumor or not,...] } \n",
    "    \"\"\"\n",
    "    with open(filename, 'r') as obj:\n",
    "        for line in obj.readlines():\n",
    "            data = json.loads(line)\n",
    "    result = {}\n",
    "    text = []\n",
    "    textlabel = []\n",
    "    length = []\n",
    "    for user_id in data.keys():\n",
    "        text.append(data[user_id]['text'])\n",
    "        textlabel.append(data[user_id]['place_id']) \n",
    "        length.append(len(data[user_id]['text']))\n",
    "    result['text'] = text\n",
    "    result['length'] = length\n",
    "    result['label'] = textlabel\n",
    "    return result"
   ]
  },
  {
   "cell_type": "code",
   "execution_count": 3,
   "id": "9119ce5b",
   "metadata": {},
   "outputs": [],
   "source": [
    "file = './train_dev_data/0905_1005.txt'\n",
    "train_dev = prepare_data(file)"
   ]
  },
  {
   "cell_type": "code",
   "execution_count": 4,
   "id": "6f337e57",
   "metadata": {},
   "outputs": [],
   "source": [
    "import pandas as pd\n",
    "import matplotlib.pyplot as plt\n",
    "import seaborn as sns"
   ]
  },
  {
   "cell_type": "code",
   "execution_count": 5,
   "id": "2f393d3a",
   "metadata": {},
   "outputs": [
    {
     "data": {
      "text/html": [
       "<div>\n",
       "<style scoped>\n",
       "    .dataframe tbody tr th:only-of-type {\n",
       "        vertical-align: middle;\n",
       "    }\n",
       "\n",
       "    .dataframe tbody tr th {\n",
       "        vertical-align: top;\n",
       "    }\n",
       "\n",
       "    .dataframe thead th {\n",
       "        text-align: right;\n",
       "    }\n",
       "</style>\n",
       "<table border=\"1\" class=\"dataframe\">\n",
       "  <thead>\n",
       "    <tr style=\"text-align: right;\">\n",
       "      <th></th>\n",
       "      <th>text</th>\n",
       "      <th>length</th>\n",
       "      <th>label</th>\n",
       "    </tr>\n",
       "  </thead>\n",
       "  <tbody>\n",
       "    <tr>\n",
       "      <th>0</th>\n",
       "      <td>Just posted a photo @ West End https://t.co/se...</td>\n",
       "      <td>54</td>\n",
       "      <td>4</td>\n",
       "    </tr>\n",
       "    <tr>\n",
       "      <th>1</th>\n",
       "      <td>Just posted a photo @ Caulfield North, Victori...</td>\n",
       "      <td>2384</td>\n",
       "      <td>3</td>\n",
       "    </tr>\n",
       "    <tr>\n",
       "      <th>2</th>\n",
       "      <td>WATERCOLOUR ART CLASSES ONLINE  Thursday 9 Sep...</td>\n",
       "      <td>280</td>\n",
       "      <td>1</td>\n",
       "    </tr>\n",
       "    <tr>\n",
       "      <th>3</th>\n",
       "      <td>Just posted a photo @ Centennial Parklands htt...</td>\n",
       "      <td>1641</td>\n",
       "      <td>1</td>\n",
       "    </tr>\n",
       "    <tr>\n",
       "      <th>4</th>\n",
       "      <td>Just posted a photo @ Richmond Hill Angus http...</td>\n",
       "      <td>264</td>\n",
       "      <td>11</td>\n",
       "    </tr>\n",
       "  </tbody>\n",
       "</table>\n",
       "</div>"
      ],
      "text/plain": [
       "                                                text  length  label\n",
       "0  Just posted a photo @ West End https://t.co/se...      54      4\n",
       "1  Just posted a photo @ Caulfield North, Victori...    2384      3\n",
       "2  WATERCOLOUR ART CLASSES ONLINE  Thursday 9 Sep...     280      1\n",
       "3  Just posted a photo @ Centennial Parklands htt...    1641      1\n",
       "4  Just posted a photo @ Richmond Hill Angus http...     264     11"
      ]
     },
     "execution_count": 5,
     "metadata": {},
     "output_type": "execute_result"
    }
   ],
   "source": [
    "train_dev_df = pd.DataFrame(train_dev)\n",
    "train_dev_df.head()"
   ]
  },
  {
   "cell_type": "code",
   "execution_count": 6,
   "id": "7abc6a00",
   "metadata": {},
   "outputs": [],
   "source": [
    "#split the train_dev dataset\n",
    "from sklearn.model_selection import train_test_split\n",
    "x_processed = train_dev_df['text']\n",
    "y_processed = train_dev_df['label']\n",
    "x_train,x_dev,y_train,y_dev = train_test_split(x_processed,y_processed,test_size = 0.3,stratify = y_processed,random_state = 22)"
   ]
  },
  {
   "cell_type": "code",
   "execution_count": 7,
   "id": "d0bc503d",
   "metadata": {},
   "outputs": [
    {
     "name": "stdout",
     "output_type": "stream",
     "text": [
      "2132\n",
      "915\n",
      "121     1\n",
      "1473    0\n",
      "1741    4\n",
      "2189    5\n",
      "2666    1\n",
      "Name: label, dtype: int64\n"
     ]
    }
   ],
   "source": [
    "print(len(x_train))\n",
    "print(len(x_dev))\n",
    "print(y_train.head())"
   ]
  },
  {
   "cell_type": "code",
   "execution_count": 8,
   "id": "f320347a",
   "metadata": {},
   "outputs": [
    {
     "name": "stdout",
     "output_type": "stream",
     "text": [
      "2132\n"
     ]
    }
   ],
   "source": [
    "print(len(x_train.iloc[:].values))"
   ]
  },
  {
   "cell_type": "code",
   "execution_count": 16,
   "id": "c473a50c",
   "metadata": {},
   "outputs": [],
   "source": [
    "train_df = pd.DataFrame(list(zip(x_train,y_train)),columns=['text','label'])\n",
    "dev_df = pd.DataFrame(list(zip(x_dev,y_dev)),columns=['text','label'])"
   ]
  },
  {
   "cell_type": "code",
   "execution_count": 17,
   "id": "052f50d9",
   "metadata": {},
   "outputs": [
    {
     "data": {
      "text/html": [
       "<div>\n",
       "<style scoped>\n",
       "    .dataframe tbody tr th:only-of-type {\n",
       "        vertical-align: middle;\n",
       "    }\n",
       "\n",
       "    .dataframe tbody tr th {\n",
       "        vertical-align: top;\n",
       "    }\n",
       "\n",
       "    .dataframe thead th {\n",
       "        text-align: right;\n",
       "    }\n",
       "</style>\n",
       "<table border=\"1\" class=\"dataframe\">\n",
       "  <thead>\n",
       "    <tr style=\"text-align: right;\">\n",
       "      <th></th>\n",
       "      <th>text</th>\n",
       "      <th>label</th>\n",
       "    </tr>\n",
       "  </thead>\n",
       "  <tbody>\n",
       "    <tr>\n",
       "      <th>0</th>\n",
       "      <td>#sydneylockdown\\nOur beautiful city, isolating...</td>\n",
       "      <td>1</td>\n",
       "    </tr>\n",
       "    <tr>\n",
       "      <th>1</th>\n",
       "      <td>Just posted a photo @ Malabar Botanical Nurser...</td>\n",
       "      <td>0</td>\n",
       "    </tr>\n",
       "    <tr>\n",
       "      <th>2</th>\n",
       "      <td>For my birthday, I donated blood as a way of g...</td>\n",
       "      <td>4</td>\n",
       "    </tr>\n",
       "    <tr>\n",
       "      <th>3</th>\n",
       "      <td>@negroniweek Negroni and charity. The best fee...</td>\n",
       "      <td>5</td>\n",
       "    </tr>\n",
       "    <tr>\n",
       "      <th>4</th>\n",
       "      <td>Repost from @est_living of this home in Bilgol...</td>\n",
       "      <td>1</td>\n",
       "    </tr>\n",
       "  </tbody>\n",
       "</table>\n",
       "</div>"
      ],
      "text/plain": [
       "                                                text  label\n",
       "0  #sydneylockdown\\nOur beautiful city, isolating...      1\n",
       "1  Just posted a photo @ Malabar Botanical Nurser...      0\n",
       "2  For my birthday, I donated blood as a way of g...      4\n",
       "3  @negroniweek Negroni and charity. The best fee...      5\n",
       "4  Repost from @est_living of this home in Bilgol...      1"
      ]
     },
     "execution_count": 17,
     "metadata": {},
     "output_type": "execute_result"
    }
   ],
   "source": [
    "train_df.head()"
   ]
  },
  {
   "cell_type": "code",
   "execution_count": 18,
   "id": "b466c8b4",
   "metadata": {},
   "outputs": [
    {
     "data": {
      "text/html": [
       "<div>\n",
       "<style scoped>\n",
       "    .dataframe tbody tr th:only-of-type {\n",
       "        vertical-align: middle;\n",
       "    }\n",
       "\n",
       "    .dataframe tbody tr th {\n",
       "        vertical-align: top;\n",
       "    }\n",
       "\n",
       "    .dataframe thead th {\n",
       "        text-align: right;\n",
       "    }\n",
       "</style>\n",
       "<table border=\"1\" class=\"dataframe\">\n",
       "  <thead>\n",
       "    <tr style=\"text-align: right;\">\n",
       "      <th></th>\n",
       "      <th>text</th>\n",
       "      <th>label</th>\n",
       "    </tr>\n",
       "  </thead>\n",
       "  <tbody>\n",
       "    <tr>\n",
       "      <th>0</th>\n",
       "      <td>Admiring the neon jellyfish before we head out...</td>\n",
       "      <td>5</td>\n",
       "    </tr>\n",
       "    <tr>\n",
       "      <th>1</th>\n",
       "      <td>At the beach today #lovemallacoota #loveeastgi...</td>\n",
       "      <td>2</td>\n",
       "    </tr>\n",
       "    <tr>\n",
       "      <th>2</th>\n",
       "      <td>Just posted a video @ Sydney, Australia https:...</td>\n",
       "      <td>1</td>\n",
       "    </tr>\n",
       "    <tr>\n",
       "      <th>3</th>\n",
       "      <td>Just posted a photo @ Kew, Melbourne, Victoria...</td>\n",
       "      <td>3</td>\n",
       "    </tr>\n",
       "    <tr>\n",
       "      <th>4</th>\n",
       "      <td>Just posted a photo @ Heide Museum of Modern A...</td>\n",
       "      <td>3</td>\n",
       "    </tr>\n",
       "  </tbody>\n",
       "</table>\n",
       "</div>"
      ],
      "text/plain": [
       "                                                text  label\n",
       "0  Admiring the neon jellyfish before we head out...      5\n",
       "1  At the beach today #lovemallacoota #loveeastgi...      2\n",
       "2  Just posted a video @ Sydney, Australia https:...      1\n",
       "3  Just posted a photo @ Kew, Melbourne, Victoria...      3\n",
       "4  Just posted a photo @ Heide Museum of Modern A...      3"
      ]
     },
     "execution_count": 18,
     "metadata": {},
     "output_type": "execute_result"
    }
   ],
   "source": [
    "dev_df.head()"
   ]
  },
  {
   "cell_type": "code",
   "execution_count": 19,
   "id": "36fe1757",
   "metadata": {},
   "outputs": [
    {
     "data": {
      "text/plain": [
       "\"#sydneylockdown\\nOur beautiful city, isolating until we meet again. Can't wait to be able to even walk these streets… https://t.co/EEeeaOmnoR#sydneylockdown\\nOur beautiful city, isolating until we meet again. Can't wait to be able to even walk these streets… https://t.co/x3zsHrWNDK\""
      ]
     },
     "execution_count": 19,
     "metadata": {},
     "output_type": "execute_result"
    }
   ],
   "source": [
    "train_df['text'][0]"
   ]
  },
  {
   "cell_type": "code",
   "execution_count": null,
   "id": "e3185c88",
   "metadata": {},
   "outputs": [],
   "source": [
    "train_df[['text','label']].iloc[:].to_csv('/content/drive/MyDrive/nlp/train.tsv', index=None, header=True, sep='\\t')\n",
    "dev_df[['text','label']].iloc[:].to_csv('/content/drive/MyDrive/nlp/dev.tsv', index=None, header=True, sep='\\t')\n",
    "# test_df[['text','label']].iloc[:].to_csv('/content/drive/MyDrive/nlp/test.tsv', index=None, header=True, sep='\\t')\n",
    "# test_df[['id','text','label']].iloc[:].to_csv('/content/drive/MyDrive/nlp/url_user_hash_test.tsv', index=None, header=True, sep='\\t')"
   ]
  }
 ],
 "metadata": {
  "kernelspec": {
   "display_name": "Python 3",
   "language": "python",
   "name": "python3"
  },
  "language_info": {
   "codemirror_mode": {
    "name": "ipython",
    "version": 3
   },
   "file_extension": ".py",
   "mimetype": "text/x-python",
   "name": "python",
   "nbconvert_exporter": "python",
   "pygments_lexer": "ipython3",
   "version": "3.8.8"
  }
 },
 "nbformat": 4,
 "nbformat_minor": 5
}
