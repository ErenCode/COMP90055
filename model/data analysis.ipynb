{
 "cells": [
  {
   "cell_type": "markdown",
   "id": "9c151c42",
   "metadata": {},
   "source": [
    "# 1、data extract"
   ]
  },
  {
   "cell_type": "code",
   "execution_count": 4,
   "id": "f3f78640",
   "metadata": {},
   "outputs": [],
   "source": [
    "import json"
   ]
  },
  {
   "cell_type": "code",
   "execution_count": 8,
   "id": "2deb8370",
   "metadata": {},
   "outputs": [],
   "source": [
    "import re\n",
    "def remove_url(text):\n",
    "    '''\n",
    "    args:\n",
    "        text: the tweet text\n",
    "    return:\n",
    "        new_text: tweet text removed the url\n",
    "    '''\n",
    "    URL_REGEX = URL_REGEX = r\"\"\"(?i)\\b((?:https?:(?:/{1,3}|[a-z0-9%])|[a-z0-9.\\-]+[.](?:com|net|org|edu|gov|mil|aero|asia|biz|cat|coop|info|int|jobs|mobi|museum|name|post|pro|tel|travel|xxx|ac|ad|ae|af|ag|ai|al|am|an|ao|aq|ar|as|at|au|aw|ax|az|ba|bb|bd|be|bf|bg|bh|bi|bj|bm|bn|bo|br|bs|bt|bv|bw|by|bz|ca|cc|cd|cf|cg|ch|ci|ck|cl|cm|cn|co|cr|cs|cu|cv|cx|cy|cz|dd|de|dj|dk|dm|do|dz|ec|ee|eg|eh|er|es|et|eu|fi|fj|fk|fm|fo|fr|ga|gb|gd|ge|gf|gg|gh|gi|gl|gm|gn|gp|gq|gr|gs|gt|gu|gw|gy|hk|hm|hn|hr|ht|hu|id|ie|il|im|in|io|iq|ir|is|it|je|jm|jo|jp|ke|kg|kh|ki|km|kn|kp|kr|kw|ky|kz|la|lb|lc|li|lk|lr|ls|lt|lu|lv|ly|ma|mc|md|me|mg|mh|mk|ml|mm|mn|mo|mp|mq|mr|ms|mt|mu|mv|mw|mx|my|mz|na|nc|ne|nf|ng|ni|nl|no|np|nr|nu|nz|om|pa|pe|pf|pg|ph|pk|pl|pm|pn|pr|ps|pt|pw|py|qa|re|ro|rs|ru|rw|sa|sb|sc|sd|se|sg|sh|si|sj|Ja|sk|sl|sm|sn|so|sr|ss|st|su|sv|sx|sy|sz|tc|td|tf|tg|th|tj|tk|tl|tm|tn|to|tp|tr|tt|tv|tw|tz|ua|ug|uk|us|uy|uz|va|vc|ve|vg|vi|vn|vu|wf|ws|ye|yt|yu|za|zm|zw)/)(?:[^\\s()<>{}\\[\\]]+|\\([^\\s()]*?\\([^\\s()]+\\)[^\\s()]*?\\)|\\([^\\s]+?\\))+(?:\\([^\\s()]*?\\([^\\s()]+\\)[^\\s()]*?\\)|\\([^\\s]+?\\)|[^\\s`!()\\[\\]{};:\\'\\\".,<>?«»“”‘’])|(?:(?<!@)[a-z0-9]+(?:[.\\-][a-z0-9]+)*[.](?:com|net|org|edu|gov|mil|aero|asia|biz|cat|coop|info|int|jobs|mobi|museum|name|post|pro|tel|travel|xxx|ac|ad|ae|af|ag|ai|al|am|an|ao|aq|ar|as|at|au|aw|ax|az|ba|bb|bd|be|bf|bg|bh|bi|bj|bm|bn|bo|br|bs|bt|bv|bw|by|bz|ca|cc|cd|cf|cg|ch|ci|ck|cl|cm|cn|co|cr|cs|cu|cv|cx|cy|cz|dd|de|dj|dk|dm|do|dz|ec|ee|eg|eh|er|es|et|eu|fi|fj|fk|fm|fo|fr|ga|gb|gd|ge|gf|gg|gh|gi|gl|gm|gn|gp|gq|gr|gs|gt|gu|gw|gy|hk|hm|hn|hr|ht|hu|id|ie|il|im|in|io|iq|ir|is|it|je|jm|jo|jp|ke|kg|kh|ki|km|kn|kp|kr|kw|ky|kz|la|lb|lc|li|lk|lr|ls|lt|lu|lv|ly|ma|mc|md|me|mg|mh|mk|ml|mm|mn|mo|mp|mq|mr|ms|mt|mu|mv|mw|mx|my|mz|na|nc|ne|nf|ng|ni|nl|no|np|nr|nu|nz|om|pa|pe|pf|pg|ph|pk|pl|pm|pn|pr|ps|pt|pw|py|qa|re|ro|rs|ru|rw|sa|sb|sc|sd|se|sg|sh|si|sj|Ja|sk|sl|sm|sn|so|sr|ss|st|su|sv|sx|sy|sz|tc|td|tf|tg|th|tj|tk|tl|tm|tn|to|tp|tr|tt|tv|tw|tz|ua|ug|uk|us|uy|uz|va|vc|ve|vg|vi|vn|vu|wf|ws|ye|yt|yu|za|zm|zw)\\b/?(?!@)))\"\"\"\n",
    "    url_lists = re.findall(URL_REGEX,text)\n",
    "    for url in url_lists:\n",
    "        new_text = text.replace(url,'')\n",
    "        text = new_text\n",
    "    return text"
   ]
  },
  {
   "cell_type": "code",
   "execution_count": 19,
   "id": "91128581",
   "metadata": {},
   "outputs": [
    {
     "name": "stderr",
     "output_type": "stream",
     "text": [
      "[nltk_data] Downloading package stopwords to\n",
      "[nltk_data]     /Users/wangyibo06/nltk_data...\n",
      "[nltk_data]   Package stopwords is already up-to-date!\n"
     ]
    }
   ],
   "source": [
    "# remove english stopwords\n",
    "import nltk\n",
    "nltk.download('stopwords')\n",
    "from nltk.corpus import stopwords\n",
    "from nltk.tokenize import TweetTokenizer\n",
    "\n",
    "tt = TweetTokenizer(strip_handles=True)\n",
    "stopwords = set(stopwords.words('english'))\n",
    "\n",
    "def remove_stopwords(data):\n",
    "    \"\"\"\n",
    "    args: \n",
    "        data:  text while text include source text and reply text\n",
    "        \n",
    "    return:\n",
    "        result: text while text include source text and reply text(remove the stopwords)\n",
    "    \"\"\"\n",
    "    res = ''\n",
    "    for word in tt.tokenize(data):\n",
    "        if word.lower().strip() in stopwords:\n",
    "            continue\n",
    "        else:\n",
    "            res += ' '+word.lower()\n",
    "    return res"
   ]
  },
  {
   "cell_type": "code",
   "execution_count": 5,
   "id": "2b385409",
   "metadata": {},
   "outputs": [],
   "source": [
    "def prepare_data(filename):\n",
    "    \"\"\"\n",
    "    args: \n",
    "        data: {user_id:{\"text\":text,\"user\":user,\"place_id\":place_id}}\n",
    "     \n",
    "    return:\n",
    "        result: {text: [text1,text2,...],length:[length1,length2,...],label:[rumor or not,...] } \n",
    "    \"\"\"\n",
    "    with open(filename, 'r') as obj:\n",
    "        for line in obj.readlines():\n",
    "            data = json.loads(line)\n",
    "    result = {}\n",
    "    text = []\n",
    "    textlabel = []\n",
    "    length = []\n",
    "    for user_id in data.keys():\n",
    "        text.append(data[user_id]['text'])\n",
    "        textlabel.append(data[user_id]['place_id']) \n",
    "        length.append(len(data[user_id]['text']))\n",
    "    result['text'] = text\n",
    "    result['length'] = length\n",
    "    result['label'] = textlabel\n",
    "    return result"
   ]
  },
  {
   "cell_type": "code",
   "execution_count": 6,
   "id": "e35153ed",
   "metadata": {},
   "outputs": [],
   "source": [
    "def prepare_data_rmurl(filename):\n",
    "    \"\"\"\n",
    "    args: \n",
    "        data: {user_id:{\"text\":text,\"user\":user,\"place_id\":place_id}}\n",
    "     \n",
    "    return:\n",
    "        result: {text: [text1,text2,...],length:[length1,length2,...],label:[rumor or not,...] } \n",
    "    \"\"\"\n",
    "    with open(filename, 'r') as obj:\n",
    "        for line in obj.readlines():\n",
    "            data = json.loads(line)\n",
    "    result = {}\n",
    "    text = []\n",
    "    textlabel = []\n",
    "    length = []\n",
    "    for user_id in data.keys():\n",
    "        text.append(remove_url(data[user_id]['text']))\n",
    "        textlabel.append(data[user_id]['place_id']) \n",
    "        length.append(len(remove_url(data[user_id]['text'])))\n",
    "    result['text'] = text\n",
    "    result['length'] = length\n",
    "    result['label'] = textlabel\n",
    "    return result"
   ]
  },
  {
   "cell_type": "code",
   "execution_count": 20,
   "id": "0e0e17c6",
   "metadata": {},
   "outputs": [],
   "source": [
    "def prepare_data_rmsp(filename):\n",
    "    \"\"\"\n",
    "    args: \n",
    "        data: {user_id:{\"text\":text,\"user\":user,\"place_id\":place_id}}\n",
    "     \n",
    "    return:\n",
    "        result: {text: [text1,text2,...],length:[length1,length2,...],label:[rumor or not,...] } \n",
    "    \"\"\"\n",
    "    with open(filename, 'r') as obj:\n",
    "        for line in obj.readlines():\n",
    "            data = json.loads(line)\n",
    "    result = {}\n",
    "    text = []\n",
    "    textlabel = []\n",
    "    length = []\n",
    "    for user_id in data.keys():\n",
    "        text.append(remove_stopwords(remove_url(data[user_id]['text'])))\n",
    "        textlabel.append(data[user_id]['place_id']) \n",
    "        length.append(len(remove_stopwords(remove_url(data[user_id]['text']))))\n",
    "    result['text'] = text\n",
    "    result['length'] = length\n",
    "    result['label'] = textlabel\n",
    "    return result"
   ]
  },
  {
   "cell_type": "code",
   "execution_count": 21,
   "id": "69f29dcf",
   "metadata": {},
   "outputs": [],
   "source": [
    "file = './train_dev_data/0905_1005.txt'\n",
    "train_dev = prepare_data(file)\n",
    "demo = prepare_data_rmurl(file)\n",
    "demo_sp = prepare_data_rmsp(file)"
   ]
  },
  {
   "cell_type": "markdown",
   "id": "36932991",
   "metadata": {},
   "source": [
    "# 2、data analysis"
   ]
  },
  {
   "cell_type": "code",
   "execution_count": 10,
   "id": "5624eaa4",
   "metadata": {},
   "outputs": [],
   "source": [
    "import pandas as pd\n",
    "import matplotlib.pyplot as plt\n",
    "import seaborn as sns"
   ]
  },
  {
   "cell_type": "code",
   "execution_count": 11,
   "id": "286531b5",
   "metadata": {},
   "outputs": [
    {
     "data": {
      "text/html": [
       "<div>\n",
       "<style scoped>\n",
       "    .dataframe tbody tr th:only-of-type {\n",
       "        vertical-align: middle;\n",
       "    }\n",
       "\n",
       "    .dataframe tbody tr th {\n",
       "        vertical-align: top;\n",
       "    }\n",
       "\n",
       "    .dataframe thead th {\n",
       "        text-align: right;\n",
       "    }\n",
       "</style>\n",
       "<table border=\"1\" class=\"dataframe\">\n",
       "  <thead>\n",
       "    <tr style=\"text-align: right;\">\n",
       "      <th></th>\n",
       "      <th>text</th>\n",
       "      <th>length</th>\n",
       "      <th>label</th>\n",
       "    </tr>\n",
       "  </thead>\n",
       "  <tbody>\n",
       "    <tr>\n",
       "      <th>0</th>\n",
       "      <td>Just posted a photo @ West End https://t.co/se...</td>\n",
       "      <td>54</td>\n",
       "      <td>4</td>\n",
       "    </tr>\n",
       "    <tr>\n",
       "      <th>1</th>\n",
       "      <td>Just posted a photo @ Caulfield North, Victori...</td>\n",
       "      <td>2384</td>\n",
       "      <td>3</td>\n",
       "    </tr>\n",
       "    <tr>\n",
       "      <th>2</th>\n",
       "      <td>WATERCOLOUR ART CLASSES ONLINE  Thursday 9 Sep...</td>\n",
       "      <td>280</td>\n",
       "      <td>1</td>\n",
       "    </tr>\n",
       "    <tr>\n",
       "      <th>3</th>\n",
       "      <td>Just posted a photo @ Centennial Parklands htt...</td>\n",
       "      <td>1641</td>\n",
       "      <td>1</td>\n",
       "    </tr>\n",
       "    <tr>\n",
       "      <th>4</th>\n",
       "      <td>Just posted a photo @ Richmond Hill Angus http...</td>\n",
       "      <td>264</td>\n",
       "      <td>11</td>\n",
       "    </tr>\n",
       "  </tbody>\n",
       "</table>\n",
       "</div>"
      ],
      "text/plain": [
       "                                                text  length  label\n",
       "0  Just posted a photo @ West End https://t.co/se...      54      4\n",
       "1  Just posted a photo @ Caulfield North, Victori...    2384      3\n",
       "2  WATERCOLOUR ART CLASSES ONLINE  Thursday 9 Sep...     280      1\n",
       "3  Just posted a photo @ Centennial Parklands htt...    1641      1\n",
       "4  Just posted a photo @ Richmond Hill Angus http...     264     11"
      ]
     },
     "execution_count": 11,
     "metadata": {},
     "output_type": "execute_result"
    }
   ],
   "source": [
    "train_dev_df = pd.DataFrame(train_dev)\n",
    "train_dev_df.head()"
   ]
  },
  {
   "cell_type": "code",
   "execution_count": 12,
   "id": "1791b13c",
   "metadata": {},
   "outputs": [
    {
     "data": {
      "text/html": [
       "<div>\n",
       "<style scoped>\n",
       "    .dataframe tbody tr th:only-of-type {\n",
       "        vertical-align: middle;\n",
       "    }\n",
       "\n",
       "    .dataframe tbody tr th {\n",
       "        vertical-align: top;\n",
       "    }\n",
       "\n",
       "    .dataframe thead th {\n",
       "        text-align: right;\n",
       "    }\n",
       "</style>\n",
       "<table border=\"1\" class=\"dataframe\">\n",
       "  <thead>\n",
       "    <tr style=\"text-align: right;\">\n",
       "      <th></th>\n",
       "      <th>text</th>\n",
       "      <th>length</th>\n",
       "      <th>label</th>\n",
       "    </tr>\n",
       "  </thead>\n",
       "  <tbody>\n",
       "    <tr>\n",
       "      <th>0</th>\n",
       "      <td>Just posted a photo @ West End</td>\n",
       "      <td>31</td>\n",
       "      <td>4</td>\n",
       "    </tr>\n",
       "    <tr>\n",
       "      <th>1</th>\n",
       "      <td>Just posted a photo @ Caulfield North, Victori...</td>\n",
       "      <td>1707</td>\n",
       "      <td>3</td>\n",
       "    </tr>\n",
       "    <tr>\n",
       "      <th>2</th>\n",
       "      <td>WATERCOLOUR ART CLASSES ONLINE  Thursday 9 Sep...</td>\n",
       "      <td>177</td>\n",
       "      <td>1</td>\n",
       "    </tr>\n",
       "    <tr>\n",
       "      <th>3</th>\n",
       "      <td>Just posted a photo @ Centennial Parklands  po...</td>\n",
       "      <td>970</td>\n",
       "      <td>1</td>\n",
       "    </tr>\n",
       "    <tr>\n",
       "      <th>4</th>\n",
       "      <td>Just posted a photo @ Richmond Hill Angus  202...</td>\n",
       "      <td>188</td>\n",
       "      <td>11</td>\n",
       "    </tr>\n",
       "  </tbody>\n",
       "</table>\n",
       "</div>"
      ],
      "text/plain": [
       "                                                text  length  label\n",
       "0                    Just posted a photo @ West End       31      4\n",
       "1  Just posted a photo @ Caulfield North, Victori...    1707      3\n",
       "2  WATERCOLOUR ART CLASSES ONLINE  Thursday 9 Sep...     177      1\n",
       "3  Just posted a photo @ Centennial Parklands  po...     970      1\n",
       "4  Just posted a photo @ Richmond Hill Angus  202...     188     11"
      ]
     },
     "execution_count": 12,
     "metadata": {},
     "output_type": "execute_result"
    }
   ],
   "source": [
    "demo_df = pd.DataFrame(demo)\n",
    "demo_df.head()"
   ]
  },
  {
   "cell_type": "code",
   "execution_count": 22,
   "id": "91ea1834",
   "metadata": {},
   "outputs": [
    {
     "data": {
      "text/html": [
       "<div>\n",
       "<style scoped>\n",
       "    .dataframe tbody tr th:only-of-type {\n",
       "        vertical-align: middle;\n",
       "    }\n",
       "\n",
       "    .dataframe tbody tr th {\n",
       "        vertical-align: top;\n",
       "    }\n",
       "\n",
       "    .dataframe thead th {\n",
       "        text-align: right;\n",
       "    }\n",
       "</style>\n",
       "<table border=\"1\" class=\"dataframe\">\n",
       "  <thead>\n",
       "    <tr style=\"text-align: right;\">\n",
       "      <th></th>\n",
       "      <th>text</th>\n",
       "      <th>length</th>\n",
       "      <th>label</th>\n",
       "    </tr>\n",
       "  </thead>\n",
       "  <tbody>\n",
       "    <tr>\n",
       "      <th>0</th>\n",
       "      <td>posted photo @ west end</td>\n",
       "      <td>24</td>\n",
       "      <td>4</td>\n",
       "    </tr>\n",
       "    <tr>\n",
       "      <th>1</th>\n",
       "      <td>posted photo @ caulfield north , victoria #po...</td>\n",
       "      <td>1202</td>\n",
       "      <td>3</td>\n",
       "    </tr>\n",
       "    <tr>\n",
       "      <th>2</th>\n",
       "      <td>watercolour art classes online thursday 9 sep...</td>\n",
       "      <td>173</td>\n",
       "      <td>1</td>\n",
       "    </tr>\n",
       "    <tr>\n",
       "      <th>3</th>\n",
       "      <td>posted photo @ centennial parklands posted ph...</td>\n",
       "      <td>892</td>\n",
       "      <td>1</td>\n",
       "    </tr>\n",
       "    <tr>\n",
       "      <th>4</th>\n",
       "      <td>posted photo @ richmond hill angus 2020 drop ...</td>\n",
       "      <td>133</td>\n",
       "      <td>11</td>\n",
       "    </tr>\n",
       "  </tbody>\n",
       "</table>\n",
       "</div>"
      ],
      "text/plain": [
       "                                                text  length  label\n",
       "0                            posted photo @ west end      24      4\n",
       "1   posted photo @ caulfield north , victoria #po...    1202      3\n",
       "2   watercolour art classes online thursday 9 sep...     173      1\n",
       "3   posted photo @ centennial parklands posted ph...     892      1\n",
       "4   posted photo @ richmond hill angus 2020 drop ...     133     11"
      ]
     },
     "execution_count": 22,
     "metadata": {},
     "output_type": "execute_result"
    }
   ],
   "source": [
    "demo_sp_df = pd.DataFrame(demo_sp)\n",
    "demo_sp_df.head()"
   ]
  },
  {
   "cell_type": "code",
   "execution_count": 19,
   "id": "af915ebe",
   "metadata": {},
   "outputs": [
    {
     "name": "stderr",
     "output_type": "stream",
     "text": [
      "/Users/wangyibo06/opt/anaconda3/lib/python3.8/site-packages/seaborn/_decorators.py:36: FutureWarning: Pass the following variable as a keyword arg: x. From version 0.12, the only valid positional argument will be `data`, and passing other arguments without an explicit keyword will result in an error or misinterpretation.\n",
      "  warnings.warn(\n"
     ]
    },
    {
     "data": {
      "image/png": "[encoded data removed]",
      "text/plain": [
       "<Figure size 432x288 with 1 Axes>"
      ]
     },
     "metadata": {
      "needs_background": "light"
     },
     "output_type": "display_data"
    }
   ],
   "source": [
    "## check the labels in train_dev data\n",
    "plt.figure()\n",
    "sns.countplot(train_dev_df.label)\n",
    "plt.xlabel('Label',size = 10)\n",
    "plt.xticks(size = 10)\n",
    "plt.show()"
   ]
  },
  {
   "cell_type": "code",
   "execution_count": 24,
   "id": "39039027",
   "metadata": {},
   "outputs": [],
   "source": [
    "#split the train_dev dataset\n",
    "from sklearn.model_selection import train_test_split\n",
    "x_processed = train_dev_df['text']\n",
    "y_processed = train_dev_df['label']\n",
    "x_train,x_dev,y_train,y_dev = train_test_split(x_processed,y_processed,test_size = 0.3,stratify = y_processed,random_state = 22)"
   ]
  },
  {
   "cell_type": "code",
   "execution_count": 29,
   "id": "7ee9741b",
   "metadata": {},
   "outputs": [
    {
     "name": "stdout",
     "output_type": "stream",
     "text": [
      "2132\n",
      "915\n",
      "121     1\n",
      "1473    0\n",
      "1741    4\n",
      "2189    5\n",
      "2666    1\n",
      "Name: label, dtype: int64\n"
     ]
    }
   ],
   "source": [
    "print(len(x_train))\n",
    "print(len(x_dev))\n",
    "print(y_train.head())"
   ]
  },
  {
   "cell_type": "code",
   "execution_count": 30,
   "id": "32f14abc",
   "metadata": {},
   "outputs": [
    {
     "name": "stderr",
     "output_type": "stream",
     "text": [
      "/Users/wangyibo06/opt/anaconda3/lib/python3.8/site-packages/seaborn/_decorators.py:36: FutureWarning: Pass the following variable as a keyword arg: x. From version 0.12, the only valid positional argument will be `data`, and passing other arguments without an explicit keyword will result in an error or misinterpretation.\n",
      "  warnings.warn(\n"
     ]
    },
    {
     "data": {
      "image/png": "[encoded data removed]",
      "text/plain": [
       "<Figure size 432x288 with 1 Axes>"
      ]
     },
     "metadata": {
      "needs_background": "light"
     },
     "output_type": "display_data"
    }
   ],
   "source": [
    "## check the labels in train data\n",
    "plt.figure()\n",
    "sns.countplot(y_train)\n",
    "plt.xlabel('Label',size = 10)\n",
    "plt.xticks(size = 10)\n",
    "plt.show()"
   ]
  },
  {
   "cell_type": "code",
   "execution_count": 31,
   "id": "9d3fca39",
   "metadata": {},
   "outputs": [
    {
     "name": "stderr",
     "output_type": "stream",
     "text": [
      "/Users/wangyibo06/opt/anaconda3/lib/python3.8/site-packages/seaborn/_decorators.py:36: FutureWarning: Pass the following variable as a keyword arg: x. From version 0.12, the only valid positional argument will be `data`, and passing other arguments without an explicit keyword will result in an error or misinterpretation.\n",
      "  warnings.warn(\n"
     ]
    },
    {
     "data": {
      "image/png": "[encoded data removed]",
      "text/plain": [
       "<Figure size 432x288 with 1 Axes>"
      ]
     },
     "metadata": {
      "needs_background": "light"
     },
     "output_type": "display_data"
    }
   ],
   "source": [
    "## check the labels in dev data\n",
    "plt.figure()\n",
    "sns.countplot(y_dev)\n",
    "plt.xlabel('Label',size = 10)\n",
    "plt.xticks(size = 10)\n",
    "plt.show()"
   ]
  },
  {
   "cell_type": "code",
   "execution_count": 32,
   "id": "dcdfa394",
   "metadata": {},
   "outputs": [
    {
     "name": "stdout",
     "output_type": "stream",
     "text": [
      "count                                                  3047\n",
      "unique                                                 3047\n",
      "top       Where two oceans meets 🌊\\n#tbt #travelphotogra...\n",
      "freq                                                      1\n",
      "Name: text, dtype: object\n"
     ]
    }
   ],
   "source": [
    "## analyze the distribution of words in the train data\n",
    "print(train_dev_df.text.describe())"
   ]
  },
  {
   "cell_type": "code",
   "execution_count": 52,
   "id": "71b8e01c",
   "metadata": {},
   "outputs": [],
   "source": [
    "label_length = []\n",
    "labels = []\n",
    "for i in range(-1,16):\n",
    "    df=train_dev_df[train_dev_df.label== i]['length']\n",
    "    label_length.append(df)\n",
    "    labels.append(str(i))"
   ]
  },
  {
   "cell_type": "code",
   "execution_count": 1,
   "id": "116e86e1",
   "metadata": {},
   "outputs": [],
   "source": [
    "# print(label_length)\n",
    "# print(labels)"
   ]
  },
  {
   "cell_type": "code",
   "execution_count": 60,
   "id": "189c6a4e",
   "metadata": {},
   "outputs": [
    {
     "data": {
      "image/png": "[encoded data removed]",
      "text/plain": [
       "<Figure size 720x720 with 1 Axes>"
      ]
     },
     "metadata": {
      "needs_background": "light"
     },
     "output_type": "display_data"
    }
   ],
   "source": [
    "## analyze the length of each label in the \n",
    "import matplotlib.pyplot as plt\n",
    "# plt.rcParams[\"font.sans-serif\"]=[\"SimHei\"]\n",
    "figure=plt.figure(figsize=(10,10))#figure size\n",
    "plt.title('boxplot of tweet messages ',fontsize=20)#title and size\n",
    "#show the means and ignore the fliers\n",
    "plt.boxplot(label_length,labels=labels,showmeans=True,showfliers=False)\n",
    "plt.xlabel('label',fontsize=15)\n",
    "plt.ylabel('text length',fontsize=15)\n",
    "plt.grid()\n",
    "plt.show()"
   ]
  },
  {
   "cell_type": "code",
   "execution_count": 16,
   "id": "020a8347",
   "metadata": {},
   "outputs": [],
   "source": [
    "demo_label_length = []\n",
    "demo_labels = []\n",
    "for i in range(-1,16):\n",
    "    df=demo_df[demo_df.label == i]['length']\n",
    "    demo_label_length.append(df)\n",
    "    demo_labels.append(str(i))"
   ]
  },
  {
   "cell_type": "code",
   "execution_count": 17,
   "id": "f52c0844",
   "metadata": {},
   "outputs": [
    {
     "data": {
      "image/png": "[encoded data removed]",
      "text/plain": [
       "<Figure size 720x720 with 1 Axes>"
      ]
     },
     "metadata": {
      "needs_background": "light"
     },
     "output_type": "display_data"
    }
   ],
   "source": [
    "## analyze the length of each label in the \n",
    "import matplotlib.pyplot as plt\n",
    "# plt.rcParams[\"font.sans-serif\"]=[\"SimHei\"]\n",
    "figure=plt.figure(figsize=(10,10))#figure size\n",
    "plt.title('boxplot of tweet messages ',fontsize=20)#title and size\n",
    "#show the means and ignore the fliers\n",
    "plt.boxplot(demo_label_length,labels=demo_labels,showmeans=True,showfliers=False)\n",
    "plt.xlabel('label',fontsize=15)\n",
    "plt.ylabel('text length',fontsize=15)\n",
    "plt.grid()\n",
    "plt.show()"
   ]
  },
  {
   "cell_type": "code",
   "execution_count": 24,
   "id": "cf2afb5a",
   "metadata": {},
   "outputs": [],
   "source": [
    "demo_sp_label_length = []\n",
    "demo_sp_labels = []\n",
    "for i in range(-1,16):\n",
    "    df=demo_sp_df[demo_sp_df.label == i]['length']\n",
    "    demo_sp_label_length.append(df)\n",
    "    demo_sp_labels.append(str(i))"
   ]
  },
  {
   "cell_type": "code",
   "execution_count": 25,
   "id": "acf443a4",
   "metadata": {},
   "outputs": [
    {
     "data": {
      "image/png": "[encoded data removed]",
      "text/plain": [
       "<Figure size 720x720 with 1 Axes>"
      ]
     },
     "metadata": {
      "needs_background": "light"
     },
     "output_type": "display_data"
    }
   ],
   "source": [
    "## analyze the length of each label in the \n",
    "import matplotlib.pyplot as plt\n",
    "# plt.rcParams[\"font.sans-serif\"]=[\"SimHei\"]\n",
    "figure=plt.figure(figsize=(10,10))#figure size\n",
    "plt.title('boxplot of tweet messages ',fontsize=20)#title and size\n",
    "#show the means and ignore the fliers\n",
    "plt.boxplot(demo_sp_label_length,labels=demo_sp_labels,showmeans=True,showfliers=False)\n",
    "plt.xlabel('label',fontsize=15)\n",
    "plt.ylabel('text length',fontsize=15)\n",
    "plt.grid()\n",
    "plt.show()"
   ]
  },
  {
   "cell_type": "code",
   "execution_count": null,
   "id": "1fd4ace6",
   "metadata": {},
   "outputs": [],
   "source": []
  }
 ],
 "metadata": {
  "kernelspec": {
   "display_name": "Python 3",
   "language": "python",
   "name": "python3"
  },
  "language_info": {
   "codemirror_mode": {
    "name": "ipython",
    "version": 3
   },
   "file_extension": ".py",
   "mimetype": "text/x-python",
   "name": "python",
   "nbconvert_exporter": "python",
   "pygments_lexer": "ipython3",
   "version": "3.8.8"
  }
 },
 "nbformat": 4,
 "nbformat_minor": 5
}
